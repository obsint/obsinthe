{
 "cells": [
  {
   "cell_type": "markdown",
   "id": "4292f2d1",
   "metadata": {},
   "source": [
    "## Environment preparation"
   ]
  },
  {
   "cell_type": "code",
   "execution_count": null,
   "id": "e68192ac",
   "metadata": {
    "ExecuteTime": {
     "end_time": "2024-07-26T13:01:16.931546Z",
     "start_time": "2024-07-26T13:01:16.925362Z"
    }
   },
   "outputs": [],
   "source": [
    "# Load `.env` variables. If nothing provided, synthetic data will be used instead.\n",
    "import dotenv\n",
    "dotenv.load_dotenv(override=True)"
   ]
  },
  {
   "cell_type": "code",
   "execution_count": null,
   "id": "b9ba9c68",
   "metadata": {
    "ExecuteTime": {
     "end_time": "2024-07-26T13:01:16.959315Z",
     "start_time": "2024-07-26T13:01:16.932279Z"
    }
   },
   "outputs": [],
   "source": [
    "# Not necessary, but useful for live-reloading changes to Obsinthe itself.\n",
    "%load_ext autoreload\n",
    "%autoreload 2"
   ]
  },
  {
   "cell_type": "code",
   "execution_count": null,
   "id": "4c8eb912",
   "metadata": {
    "ExecuteTime": {
     "end_time": "2024-07-26T13:01:20.054322Z",
     "start_time": "2024-07-26T13:01:16.960749Z"
    }
   },
   "outputs": [],
   "source": [
    "# Some core dependencies.\n",
    "import os\n",
    "from datetime import timedelta, datetime\n",
    "\n",
    "# For printing values to notebook.\n",
    "from IPython.display import display, HTML\n",
    "\n",
    "# For talking to Prometheus\n",
    "from obsinthe.prometheus.client import Client\n",
    "from obsinthe.prometheus.loader import Loader\n",
    "\n",
    "# For simulating alerts data (when not connected to live source)\n",
    "from obsinthe.testing.prometheus.client import MockedClient\n",
    "from obsinthe.testing.prometheus.alerts import AlertsDatasetBuilder\n",
    "\n",
    "# For merging daily data into a single dataset\n",
    "from obsinthe.prometheus.data import intervals_concat_days\n",
    "\n",
    "# For alerts clusterin\n",
    "from obsinthe.alerts.grouping import alerts_groups_one_hot, alerts_clustering_dbscan\n",
    "\n",
    "# For visualization\n",
    "from obsinthe.vis.alerts import plot_alerts_timeline\n",
    "from obsinthe.vis.clustering import plot_clustering\n",
    "\n",
    "# To avoid some issues when rendering Plotly on export to HTML\n",
    "import cufflinks\n",
    "cufflinks.go_offline()"
   ]
  },
  {
   "cell_type": "markdown",
   "id": "f296a33a",
   "metadata": {},
   "source": [
    "## Data loading"
   ]
  },
  {
   "cell_type": "code",
   "execution_count": null,
   "id": "daae9127",
   "metadata": {
    "ExecuteTime": {
     "end_time": "2024-07-26T13:01:20.068958Z",
     "start_time": "2024-07-26T13:01:20.055294Z"
    }
   },
   "outputs": [],
   "source": [
    "# What date range we want to load the data for.\n",
    "START = datetime(2024, 3, 19, 10, 10)\n",
    "END = datetime(2024, 3, 23, 0, 0)"
   ]
  },
  {
   "cell_type": "code",
   "execution_count": null,
   "id": "3ac927a6",
   "metadata": {
    "ExecuteTime": {
     "end_time": "2024-07-26T13:01:20.149989Z",
     "start_time": "2024-07-26T13:01:20.070220Z"
    }
   },
   "outputs": [],
   "source": [
    "# Load the data or simulate them when endpoint not available.\n",
    "\n",
    "# Replace with your instance, e.g. \"https://prometheus.example.com\".\n",
    "PROM_URL = \"\"\n",
    "\n",
    "if not PROM_URL:\n",
    "    client = MockedClient(AlertsDatasetBuilder(START, END))\n",
    "    client.mock_setup((START, END))\n",
    "else:\n",
    "    # We expect the token being available in `PROM_TOKEN`. Add it to `.env` file\n",
    "    client = Client(url=PROM_URL, token=os.getenv(\"PROM_TOKEN\"))\n",
    "\n",
    "# Load alerts data from the Prometheus instance.\n",
    "loader = Loader(client)\n",
    "\n",
    "alerts_ranges_collection = loader.interval_query(\"ALERTS[24h:1m]\", START, END)\n",
    "alerts_ranges_collection[0].df"
   ]
  },
  {
   "cell_type": "markdown",
   "id": "d17333c9",
   "metadata": {},
   "source": [
    "## Data transformation"
   ]
  },
  {
   "cell_type": "code",
   "execution_count": null,
   "id": "135a87a8",
   "metadata": {
    "ExecuteTime": {
     "end_time": "2024-07-26T13:01:20.183403Z",
     "start_time": "2024-07-26T13:01:20.150804Z"
    }
   },
   "outputs": [],
   "source": [
    "alerts_intervals_collection = alerts_ranges_collection.fmap(\n",
    "    lambda ds: ds.to_intervals_ds(timedelta(minutes=1))\n",
    ")\n",
    "alerts_intervals_collection[0].df"
   ]
  },
  {
   "cell_type": "code",
   "execution_count": null,
   "id": "e89ac381",
   "metadata": {
    "ExecuteTime": {
     "end_time": "2024-07-26T13:01:59.435407Z",
     "start_time": "2024-07-26T13:01:59.385664Z"
    }
   },
   "outputs": [],
   "source": [
    "alerts_intervals = intervals_concat_days(\n",
    "    alerts_intervals_collection\n",
    ").correct_for_resolution(timedelta(minutes=1))\n",
    "alerts_intervals.df"
   ]
  },
  {
   "cell_type": "markdown",
   "id": "b0f90413",
   "metadata": {},
   "source": [
    "## Identifying groups of alerts"
   ]
  },
  {
   "cell_type": "code",
   "execution_count": null,
   "id": "a2971ba6",
   "metadata": {
    "ExecuteTime": {
     "end_time": "2024-07-26T13:02:00.570364Z",
     "start_time": "2024-07-26T13:02:00.554575Z"
    }
   },
   "outputs": [],
   "source": [
    "alert_id = lambda a: f\"{a['alertname']}-{a['instance_id']}\""
   ]
  },
  {
   "cell_type": "code",
   "execution_count": null,
   "id": "1f8944a8",
   "metadata": {
    "ExecuteTime": {
     "end_time": "2024-07-26T13:02:01.027253Z",
     "start_time": "2024-07-26T13:02:00.883999Z"
    }
   },
   "outputs": [],
   "source": [
    "plot_alerts_timeline(alerts_intervals, alert_id=alert_id).show()\n",
    "\n",
    "plot_alerts_timeline(\n",
    "    alerts_intervals.fmap(lambda df: df.query(\"instance_id == '1'\")), alert_id=alert_id\n",
    ").show()"
   ]
  },
  {
   "cell_type": "code",
   "execution_count": null,
   "id": "df0db889",
   "metadata": {
    "ExecuteTime": {
     "end_time": "2024-07-26T13:02:01.380407Z",
     "start_time": "2024-07-26T13:02:01.220532Z"
    }
   },
   "outputs": [],
   "source": [
    "# Group alert starting within provided tolerange and turn data into one-hot encoding.\n",
    "one_hot = alerts_groups_one_hot(\n",
    "    alerts_intervals,\n",
    "    groupby_columns=[\"instance_id\"],\n",
    "    group_tolerance=timedelta(minutes=3),\n",
    ")\n",
    "\n",
    "one_hot"
   ]
  },
  {
   "cell_type": "markdown",
   "id": "71cc0caa",
   "metadata": {},
   "source": [
    "## Apply clustering alogorithm"
   ]
  },
  {
   "cell_type": "code",
   "execution_count": null,
   "id": "7ca57e1a",
   "metadata": {
    "ExecuteTime": {
     "end_time": "2024-07-26T13:02:05.679807Z",
     "start_time": "2024-07-26T13:02:02.352453Z"
    }
   },
   "outputs": [],
   "source": [
    "# Apply the clustering.\n",
    "ac = alerts_clustering_dbscan(\n",
    "    one_hot,\n",
    "    eps=1,\n",
    "    n_neighbors=2,\n",
    "    min_samples=2,\n",
    "    min_dist=0.1,\n",
    ")\n",
    "\n",
    "plot_clustering(ac)"
   ]
  },
  {
   "cell_type": "markdown",
   "id": "01a1008b",
   "metadata": {},
   "source": [
    "## Additional data cleanup"
   ]
  },
  {
   "cell_type": "code",
   "execution_count": null,
   "id": "2c10d1ec",
   "metadata": {
    "ExecuteTime": {
     "end_time": "2024-07-26T13:02:07.215190Z",
     "start_time": "2024-07-26T13:02:07.049280Z"
    }
   },
   "outputs": [],
   "source": [
    "# Show case with flapping alerts.\n",
    "\n",
    "fig_flap = plot_alerts_timeline(\n",
    "    alerts_intervals.fmap(\n",
    "        lambda df: df.query(\"instance_id == '10'\")\n",
    "    ),\n",
    "    alert_id=alert_id,\n",
    "    height=600\n",
    ")\n",
    "\n",
    "display(HTML(\"<h3>With flapping</h3>\"))\n",
    "fig_flap.show()"
   ]
  },
  {
   "cell_type": "code",
   "execution_count": null,
   "id": "3bbf74c1",
   "metadata": {
    "ExecuteTime": {
     "end_time": "2024-07-26T13:02:07.650076Z",
     "start_time": "2024-07-26T13:02:07.492037Z"
    }
   },
   "outputs": [],
   "source": [
    "# Reduce the flapping by merging with positive threshold.\n",
    "alerts_intervals_reduced_flap = alerts_intervals.merge_overlaps(\n",
    "    threshold=timedelta(minutes=30)\n",
    ")\n",
    "\n",
    "fig_noflap = plot_alerts_timeline(\n",
    "    alerts_intervals_reduced_flap.fmap(\n",
    "        lambda df: df.query(\"instance_id == '10'\")\n",
    "    ),\n",
    "    alert_id=alert_id,\n",
    "    height=600\n",
    ")\n",
    "\n",
    "display(HTML(\"<h3>Without flapping</h3>\"))\n",
    "fig_noflap.show()"
   ]
  },
  {
   "cell_type": "markdown",
   "id": "c83b88b7",
   "metadata": {},
   "source": [
    "## Re-apply the clustering after the cleanup"
   ]
  },
  {
   "cell_type": "code",
   "execution_count": null,
   "id": "ade880c6",
   "metadata": {
    "ExecuteTime": {
     "end_time": "2024-07-26T13:02:09.380401Z",
     "start_time": "2024-07-26T13:02:08.849980Z"
    }
   },
   "outputs": [],
   "source": [
    "# To compare with previous version.\n",
    "one_hot_noflap = alerts_groups_one_hot(\n",
    "    alerts_intervals_reduced_flap,\n",
    "    groupby_columns=[\"instance_id\"],\n",
    "    group_tolerance=timedelta(minutes=3),\n",
    ")\n",
    "\n",
    "# Apply clustering after flapping reduction.\n",
    "ac_noflap = alerts_clustering_dbscan(\n",
    "    one_hot_noflap,\n",
    "    eps=1,\n",
    "    n_neighbors=2,\n",
    "    min_samples=2,\n",
    "    min_dist=0.1,\n",
    ")\n",
    "\n",
    "display(HTML(\"<h3>With flapping</h3>\"))\n",
    "plot_clustering(ac).show()\n",
    "\n",
    "display(HTML(\"<h3>Without flapping</h3>\"))\n",
    "plot_clustering(ac_noflap).show()"
   ]
  },
  {
   "cell_type": "markdown",
   "id": "1fd69920",
   "metadata": {},
   "source": [
    "## Examing relative risks between alerts combinations"
   ]
  },
  {
   "cell_type": "code",
   "execution_count": null,
   "id": "053a729a",
   "metadata": {
    "ExecuteTime": {
     "end_time": "2024-07-26T13:02:10.287202Z",
     "start_time": "2024-07-26T13:02:10.272601Z"
    }
   },
   "outputs": [],
   "source": [
    "from obsinthe.utils.relative_risks import RelativeRisks"
   ]
  },
  {
   "cell_type": "code",
   "execution_count": null,
   "id": "ad83e3a3",
   "metadata": {
    "ExecuteTime": {
     "end_time": "2024-07-26T13:02:17.793192Z",
     "start_time": "2024-07-26T13:02:17.760645Z"
    }
   },
   "outputs": [],
   "source": [
    "rr_calc = RelativeRisks(one_hot_noflap, one_hot_noflap)\n",
    "rr_calc.calculate()\n",
    "rr_calc.where(rr_calc.E_and_O > 5)"
   ]
  }
 ],
 "metadata": {
  "hide_input": false,
  "kernelspec": {
   "display_name": "Python 3 (ipykernel)",
   "language": "python",
   "name": "python3"
  },
  "language_info": {
   "codemirror_mode": {
    "name": "ipython",
    "version": 3
   },
   "file_extension": ".py",
   "mimetype": "text/x-python",
   "name": "python",
   "nbconvert_exporter": "python",
   "pygments_lexer": "ipython3",
   "version": "3.11.8"
  }
 },
 "nbformat": 4,
 "nbformat_minor": 5
}
